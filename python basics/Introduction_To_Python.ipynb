{
  "nbformat": 4,
  "nbformat_minor": 0,
  "metadata": {
    "colab": {
      "name": "Introduction  To Python.ipynb",
      "provenance": []
    },
    "kernelspec": {
      "name": "python3",
      "display_name": "Python 3"
    },
    "language_info": {
      "name": "python"
    }
  },
  "cells": [
    {
      "cell_type": "markdown",
      "metadata": {
        "id": "mwT8j4_DR6r6"
      },
      "source": [
        "**Python** is an interpreted, high-level language created by Guido van Rossum and released in 1991. It is dynamically typed and garbage collected.Python programs have the extension.py and can be run from the command line by typing python file_name.py.\n",
        "\n",
        "- In computer science, garbage collection (GC) is a form of automatic memory management. The garbage collector attempts to reclaim memory which was allocated by the program, but is no longer referenced—also called garbage, garbage collection relieves the programmer from performing manual memory management where the programmer specifies what objects to deallocate and return to the memory system and when to do so. \n",
        "\n",
        "Probably its most noticeable characteristic is its use of significant white space to delimit code blocks, instead of the more popular {} symbols End-of-line semicolons (;) are optional and usually not used in Python.\n",
        "\n",
        "Python becomes the best solution in many domains from web applications, data analysis, data science, machine learning, and AI."
      ]
    },
    {
      "cell_type": "markdown",
      "metadata": {
        "id": "AuY3L-a0SEd_"
      },
      "source": [
        "**Common Feature Provided By python :**\n",
        "\n",
        "- Simplicity: Think less of the syntax of the language and more of the code.\n",
        "\n",
        "- Open Source: A powerful language and it is free for everyone to use and alter as needed.\n",
        "\n",
        "- Portability: Python code can be shared and it would work the same way it was intended to. Seamless and hassle-free.\n",
        "\n",
        "- Being Embeddable & Extensible: Python can have snippets of other languages inside it to perform certain functions.\n",
        "- Being Interpreted: The worries of large memory tasks and other heavy CPU tasks are taken care of by Python itself leaving you to worry only about coding.\n",
        "\n",
        "- Huge amount of libraries: Data Science? Python has you covered. Web Development? Python still has you covered.\n",
        "\n",
        "- Object Orientation: Objects help breaking-down complex real-life problems into such that they can be coded and solved to obtain solutions.\n",
        "\n"
      ]
    },
    {
      "cell_type": "markdown",
      "metadata": {
        "id": "A7UHt0UeTdaR"
      },
      "source": [
        "**Applications of Python.**\n",
        "- Artificial Intelligence\n",
        "- Desktop Application\n",
        "- Automation\n",
        "- Web Development\n",
        "- Data Wrangling, Exploration And Visualisation."
      ]
    },
    {
      "cell_type": "markdown",
      "metadata": {
        "id": "Q0Y_wWfBTuIv"
      },
      "source": [
        "**Installation:**\n",
        "\n",
        "Download the latest version of Python for your operating system here. You can read more about setting up a python development using VS Code from this tutorial by pythontutorial.net."
      ]
    },
    {
      "cell_type": "markdown",
      "metadata": {
        "id": "B85xcaqfT2xB"
      },
      "source": [
        "**Python Hello World.**\n",
        "As Raghu Venkatesh, Engineering Manager at Atlassian said, if you can write “hello world” you can change the world. So let create our first python program, hello world program.\n",
        "\n",
        "- First, create a new folder where you will be saving you python files, let say Lux.\n",
        "\n",
        "- Second, launch the VS code and open the new folder you created, Lux.\n",
        "\n",
        "- Third, create a new python file, let say app.py file and enter the following code and save the file:\n",
        "```python\n",
        "print('Hello, World!')\n",
        "``` \n",
        "\n",
        "The **print()** is a built-in function that displays a message on the screen. In our case, it’ll show the message **'Hello, Word!'**."
      ]
    },
    {
      "cell_type": "markdown",
      "metadata": {
        "id": "qDKVwUZUUEa0"
      },
      "source": [
        "**Executing the Python program.**\n",
        "\n",
        "To execute the **app.py** file we created above, you first launch the Command Prompt on Windows or Terminal on macOS or Linux.\n",
        "\n",
        "Then, navgiate to the folder containing our file, for our case Lux.\n",
        "\n",
        "After that, type the following command to execute the app.py file:\n",
        "\n",
        "```bash \n",
        "Python3 app.py\n",
        "``` \n",
        "\n",
        "If everything is fine, you’ll see the following message on the screen:\n",
        "\n",
        "```\n",
        "Hello, World!\n",
        "```\n"
      ]
    },
    {
      "cell_type": "markdown",
      "source": [
        "## **Python support the following 4 programming techniques**\n",
        "\n",
        "- Object oriented programming\n",
        "\n",
        "- Procedural oriented  programming \n",
        "   \n",
        "- Functional oriented programming \n",
        "\n",
        "- Imperative oriented programming \n"
      ],
      "metadata": {
        "id": "zCTI7qN2xeel"
      }
    },
    {
      "cell_type": "markdown",
      "source": [
        "**Keywords** in python are special reserved words which conveys special meaning to the python interpreter or IDE \n",
        "\n",
        "**Examples:** True, False Pass, Try def, class, if etc\n",
        "\n",
        "Keywords can not be used as identifiers in Python\n",
        "\n",
        "**Identifiers** are names used to identify a variable function class object or a module in Python.\n",
        "Examples: name = “Lux Tech Academy” \n",
        "Name in the above example  is an identifier, and note that identifiers are case sensitive, this means name and Name are two different identifiers in Python programming language \n"
      ],
      "metadata": {
        "id": "UP3Xkugnxrkz"
      }
    },
    {
      "cell_type": "markdown",
      "source": [
        "\n",
        "# **Rules for naming identifiers**\n",
        "\n",
        "\n",
        "- No special Characters except underscores can be used as an identifier.\n",
        "\n",
        "\n",
        "- Keywords can not be used as an identifiers.\n",
        "\n",
        "\n",
        "- Python identifiers are case sensitive .\n",
        "\n",
        "\n",
        "- First character of an identifier can be only a character or underscore,  it can not be a digit  \n",
        "\n",
        "\n"
      ],
      "metadata": {
        "id": "GrtM4d3jx3tf"
      }
    },
    {
      "cell_type": "markdown",
      "metadata": {
        "id": "Ca37taHPUhC-"
      },
      "source": [
        "**Comments**\n",
        "\n",
        "A comment is text in a program's code, script, or another file that is not meant to be seen by the user running the program. However, is seen when viewing the source code.\n",
        "\n",
        "Comments help make code easier to understand by explaining what is happening and help prevent portions of a program from executing. \n",
        "\n",
        "```python\n",
        "# single line comment\n",
        "\n",
        "\"\"\"\n",
        "multiline comment\n",
        "Using  docstring\n",
        "\"\"\"\n",
        "```\n"
      ]
    },
    {
      "cell_type": "markdown",
      "metadata": {
        "id": "l2tZNGckU5LT"
      },
      "source": [
        "**NOTE: Use comments where appropriate and don't over do it.**"
      ]
    },
    {
      "cell_type": "markdown",
      "metadata": {
        "id": "ea_CWlldVHcx"
      },
      "source": [
        "**Variables**\n",
        "\n",
        "Variables are used to store information to be referenced and manipulated in a computer program. They also provide a way of labeling data with a descriptive name, so our programs can be understood more clearly by the reader and ourselves. It is helpful to think of variables as containers that hold information. Their sole purpose is to label and store data in memory. This data can then be used throughout your program."
      ]
    },
    {
      "cell_type": "markdown",
      "metadata": {
        "id": "68iGioA_VRoR"
      },
      "source": [
        "\n",
        "```python\n",
        "favourite_food = \"Rösti\"\n",
        "print(favourite_food)\n",
        "``` \n"
      ]
    },
    {
      "cell_type": "markdown",
      "metadata": {
        "id": "zwcyaFjlVWJO"
      },
      "source": [
        "**Note:**\n",
        "\n",
        "Variables do not need to be declared. Their data types are inferred from their assignment statement, which makes Python a dynamically typed language. This means that different data types can be assigned to the same variable throughout the code."
      ]
    },
    {
      "cell_type": "markdown",
      "metadata": {
        "id": "u4pYEd6eVZWY"
      },
      "source": [
        "```python\n",
        "favourite_food = \"Rösti\"\n",
        "print(favourite_food)\n",
        "favourite_food = 26\n",
        "print(favourite_food)\n",
        "favourite_food = False\n",
        "print(favourite_food)\n",
        "``` "
      ]
    },
    {
      "cell_type": "markdown",
      "source": [
        "**Literals in Python are data given in a variable or constant, there are 4 types of literals in Python.**\n",
        "\n",
        "- String literals \n",
        "- Numeric literals \n",
        "- Boolean literals  \n",
        "- Special Literals \n"
      ],
      "metadata": {
        "id": "cQ-nUz-7y9F8"
      }
    },
    {
      "cell_type": "markdown",
      "source": [
        "\n",
        "**Arithmetic Operators.**\n",
        "\n",
        "```python\n",
        "print(46 + 2)  # 48 (addition)\n",
        "print(10 - 9)  # 1 (subtraction)\n",
        "print(3 * 3)  # 9 (multiplication)\n",
        "print(84 / 2)  # 42.0 (division)\n",
        "print(2 ** 8)  # 256 (exponent)\n",
        "print(11 % 2)  # 1 (remainder of the division)\n",
        "print(11 // 2)  # 5 (floor division) \n",
        "```\n"
      ],
      "metadata": {
        "id": "MGmUZ5g-ykEj"
      }
    },
    {
      "cell_type": "markdown",
      "metadata": {
        "id": "0ckgjLpaXFNp"
      },
      "source": [
        "# Comparison, Logical, and Conditional Operators.\n",
        "**Comparison: ==, !=, <, >, <=, >=**\n",
        "\n",
        "**Logical: and, or, not**\n",
        "\n",
        "**Conditionals: if, else, elif**\n",
        "\n",
        "**# logical operators:**\n",
        "\n",
        "```python\n",
        "laundry_day = \"Monday\"\n",
        "today = \"Tuesday\"\n",
        "on_vacation = False\n",
        "if today is laundry_day and today is not \"Sunday\" and on_vacation is False:\n",
        "  print(\"It's laundry day!\")\n",
        "else:\n",
        "  print(\"The laundry can wait!\")\n",
        "```\n",
        "\n",
        "**# comparison operators:**\n",
        "\n",
        "```python\n",
        "age = 21\n",
        "if age >= 21:\n",
        "  print(\"You can drive a trailer\")\n",
        "elif age >= 16:\n",
        "  print(\"You can drive a car\")\n",
        "else:\n",
        "  print(\"You can ride a bike\")\n",
        "```  "
      ]
    },
    {
      "cell_type": "markdown",
      "metadata": {
        "id": "qqwvX_voXzyb"
      },
      "source": [
        "# **Data Types**\n",
        "\n",
        "**1). Strings.**\n",
        "\n",
        "**Example 1:**\n",
        "\n",
        "```python\n",
        "language = \"Python\"\n",
        "```\n",
        "\n",
        "**Example 2:**\n",
        "\n",
        "```python\n",
        "multiline_str = '''\n",
        "one\n",
        "per\n",
        "line'''  \n",
        "```\n",
        "\n",
        "\n",
        "**Example 3, escape characters:**\n",
        "\n",
        "```python\n",
        "escape_str = \"She said: \\\"Python is great!\\\"\"\n",
        "print(escape_str) # She said: \"Python is great!\"  \n",
        "```\n",
        "\n",
        "**Example 4, concatenate strings:**\n",
        "\n",
        "```python\n",
        "one = \"Lux\"\n",
        "two = \"Academy\"\n",
        "print(one + \" \" + two) # Lux Academy \n",
        "```\n",
        "\n",
        "Example 5: interpolation.\n",
        "\n",
        "```python\n",
        "# method 1\n",
        "first_name = \"Lux\"\n",
        "last_name = \"Academy\"\n",
        "greet = f\"Welcome at {first_name} {last_name}!\" \n",
        "print(greet)  # Welcome at Lux Tech Academy!\n",
        "\n",
        "# method 2\n",
        "first_name = \"Lux\"\n",
        "last_name = \"Academy\"\n",
        "greet = 'Welcome at {} {}!'.format(first_name, last_name)\n",
        "print(greet)  # Welcome at Lux Tech Academy!\n",
        "\n",
        "# method 3\n",
        "first_name = \"Lux\"\n",
        "last_name = \"Academy\"\n",
        "greet = 'Welcome at{first} {last} !'.format( first=first_name, last=last_name) \n",
        "print(greet)  # Welcome at Lux Tech Academy!\n",
        "```\n",
        "\n",
        "**Example 6, extract substrings**\n",
        "\n",
        "```python\n",
        "name = \"Monty Python\"\n",
        "print(name[6:9]) # Pyt\n",
        "print(name[6:]) # Python\n",
        "print(name[:5]) # Monty\n",
        "```\n",
        "\n",
        "**2). Numbers**\n",
        "\n",
        "Python supports three numeric data types: int, float, and complex. They are inferred, so need not be specified.\n",
        "\n",
        "```python\n",
        "age = 18 # int\n",
        "pi = 3.14 # float\n",
        "total = age + pi # complex\n",
        "print(type(age), type(pi), type(total))\n",
        "\n",
        "# <class 'int'> <class 'float'> <class 'float'>\n",
        "```\n",
        "\n",
        "**3). Booleans.**\n",
        "\n",
        "```python\n",
        "# booleans\n",
        "a = True\n",
        "b = False\n",
        "if a is True and b is False:\n",
        "  print(\"YAY!\")\n",
        "```\n",
        "\n",
        "**4). Lists.**\n",
        "\n",
        "A list in Python is what other programming languages call an array. They use Zero-based indexing, and the items can contain any type of data. List items are nested in [].\n",
        "\n",
        "```python\n",
        "# can store any data type\n",
        "multiple_types = [True, 3.7, \"Python\"]\n",
        "\n",
        "# access and modify\n",
        "favourite_foods = [\"pasta\", \"pizza\", \"french fries\"]\n",
        "print(favourite_foods[1]) # pizza\n",
        "favourite_foods[0] = \"rösti\"\n",
        "print(favourite_foods[0]) # rösti\n",
        "\n",
        "# subsets\n",
        "print(favourite_foods[1:3]) # ['pizza', 'french fries']\n",
        "print(favourite_foods[2:]) # ['french fries']\n",
        "print(favourite_foods[0:2]) # ['rösti', 'pizza']\n",
        "\n",
        "# append\n",
        "favourite_foods.append(\"paella\")\n",
        "\n",
        "# insert at index\n",
        "favourite_foods.insert(1, \"soup\")\n",
        "\n",
        "# remove\n",
        "favourite_foods.remove(\"soup\")\n",
        "\n",
        "# get length\n",
        "print(len(favourite_foods)) # 4\n",
        "\n",
        "# get subset (the original list is not modified)\n",
        "print(favourite_foods[1:3]) # ['pizza', 'french fries']\n",
        "\n",
        "# lists inside lists\n",
        "favourite_drinks = [\"water\", \"wine\", \"juice\"]\n",
        "favourites = [favourite_foods, favourite_drinks]\n",
        "print(favourites[1][2]) # juice\n",
        "```\n",
        "**5). Tuples**\n",
        "\n",
        "Tuples are just like lists, but immutable (cannot be modified). They are surrounded by ().\n",
        "\n",
        "```python\n",
        "#tuples\n",
        "new_tuple = (\"a\", \"b\", \"c\", \"d\")\n",
        "print(len(new_tuple)) # 4\n",
        "print(new_tuple[1]) # b\n",
        "print(new_tuple[1:4]) # ('b', 'c', 'd')\n",
        "6). Dictionaries.\n",
        "Dictionaries are key-value pairs. They are surrounded by {} and are similar to objects in JavaScript. The values can have any data type.\n",
        "language_creators = {\n",
        "  \"Python\" : \"Guido van Rossum\",\n",
        "  \"C\" : \"Dennis Ritchie\",\n",
        "  \"Java\" : \"James Gosling\",\n",
        "  \"Go\": \"Robert Griesemer\",\n",
        "  \"Perl\" : \"Larry Wall\"\n",
        "}\n",
        "\n",
        "# access, modify, delete\n",
        "print(language_creators[\"Python\"]) # Guido van Rossum\n",
        "language_creators[\"Go\"] = [\"Robert Griesemer\", \"Rob Pike\", \"Ken Thompson\"]\n",
        "print(language_creators[\"Go\"]) # ['Robert Griesemer', 'Rob Pike', 'Ken Thompson']\n",
        "print(len(language_creators)) # 5\n",
        "del language_creators[\"Perl\"]\n",
        "print(len(language_creators)) # 4\n",
        "\n",
        "# print keys and values\n",
        "print(language_creators.keys())\n",
        "print(language_creators.values())\n",
        "```\n",
        "\n",
        "### **Control Flow and Decision Making**\n",
        "\n",
        "You use the **if statement** to execute a block of code based on a specified condition. The **if statement** checks the condition first. If the condition evaluates to **True,** it executes the statements in the if-block. Otherwise, it ignores the statements.\n",
        "\n",
        "Note that the colon **(:)** that follows the condition is very important. If you forget it, you’ll get a syntax error.\n",
        "\n",
        "```python\n",
        "age = input('Enter your age:')\n",
        "if int(age) >= 18:\n",
        "    print(\"You're eligible to vote.\")\n",
        "    print(\"Let's go and vote.\")\n",
        "```\n",
        "\n",
        "Sometimes, you want to perform an action when a condition is True and another action when the condition is False.\n",
        "\n",
        "\n",
        "To do so, you use the **if...else statement.** \n",
        "\n",
        "```python\n",
        "age = input('Enter your age:')\n",
        "if int(age) >= 18:\n",
        "    print(\"You're eligible to vote.\")\n",
        "else:\n",
        "    print(\"You're not eligible to vote.\")\n",
        "``` \n",
        "\n",
        "If you want to check multiple conditions and perform an action accordingly, you can use the if...elif...else statement. The elif stands for else if.\n",
        "\n",
        "Example consinder the example below, in the example:\n",
        "\n",
        "- If the input age is less than 5, the ticket price will be  5 dollars .\n",
        "- If the input age is greater than or equal to 5 and less than 16, the ticket price is 10 dollars .\n",
        "- Otherwise, the ticket price is $18.\n",
        "\n",
        "```python\n",
        "age = input('Enter your age:')\n",
        "\n",
        "# convert the string to int\n",
        "your_age = int(age)\n",
        "\n",
        "# determine the ticket price\n",
        "if your_age < 5:\n",
        "    ticket_price = 5\n",
        "elif your_age < 16:\n",
        "    ticket_price = 10\n",
        "else:\n",
        "    ticket_price = 18\n",
        "\n",
        "# show the ticket price\n",
        "print(f\"You'll pay ${ticket_price} for the ticket\")\n",
        "``` \n",
        "\n",
        "So in general, \n",
        "1). Use the if statement when you want to run a code block based on a condition.\n",
        "\n",
        "2). Use the if...else statement when you want to run another code block if the condition is not True.\n",
        "\n",
        "3). Use the if...elif...else statement when you want to check multiple conditions and run the corresponding code block that follows the condition that evaluates to True.\n",
        "\n",
        "\n",
        "**For loops**\n",
        "\n",
        "```python\n",
        "# foor loop\n",
        "for x in range(0, 3):\n",
        "  print(x)\n",
        "```\n",
        "\n",
        "**loop through list**\n",
        "\n",
        "```python\n",
        "for x in [\"Python\", \"Go\", \"Java\"]:\n",
        "  print(x)\n",
        "```\n",
        "\n",
        "**loop through dictionary**\n",
        "\n",
        "```python\n",
        "language_creators = {\n",
        "  \"Python\" : \"Guido van Rossum\",\n",
        "  \"C\" : \"Dennis Ritchie\",\n",
        "  \"Java\" : \"James Gosling\",\n",
        "}\n",
        "for key, value in language_creators.items():\n",
        "  print(\"Language: {}; Creator: {}\".format(key, value))\n",
        "``` \n",
        "\n",
        "**While loops.**\n",
        "\n",
        "```python\n",
        "# while loop\n",
        "level = 0\n",
        "while(level < 10):\n",
        "  level += 1\n",
        "```   \n"
      ]
    },
    {
      "cell_type": "markdown",
      "metadata": {
        "id": "ilbNu9IEVsz5"
      },
      "source": [
        "**Functions.**\n",
        "Functions are defined using the def keyword. \n",
        "```python\n",
        "# functions\n",
        "def allowed_to_drive(age):\n",
        "  if age >= 21:\n",
        "    return True\n",
        "  else:\n",
        "    return False\n",
        "\n",
        "print(allowed_to_drive(42)) # True\n",
        "print(allowed_to_drive(12)) # False\n",
        "```\n",
        "\n",
        "Default values for arguments may also be defined.\n",
        "\n",
        "```python\n",
        "def is_laundry_day(today, laundry_day = \"Monday\", on_vacation = False):\n",
        "  if today is laundry_day and today is not \"Sunday\" and on_vacation is False:\n",
        "    return True\n",
        "  else:\n",
        "    return False\n",
        "\n",
        "print(is_laundry_day(\"Tuesday\")) # False\n",
        "print(is_laundry_day(\"Tuesday\", \"Tuesday\")) # True\n",
        "print(is_laundry_day(\"Friday\", \"Friday\", True)) # False\n",
        "```"
      ]
    },
    {
      "cell_type": "markdown",
      "metadata": {
        "id": "4g1l0nnUV6Yh"
      },
      "source": [
        "**Classes.**\n",
        "\n",
        "Classes are collections of variables and functions that work with those variables.\n",
        "Classes in Python are defined with the class keyword. They are similar to classes in other languages like Java and C#, but differences include self being used instead of this to refer to the object resulted from the class. Also, the constructor function’s name is init, instead of the more popular classname. self must be used every time a class variable is referenced and must be the first argument in each function’s argument list, including the constructor.\n",
        "\n",
        "Python does not support method overloading, but it can be achieved to some extent by using default values for arguments (shown in the Functions section).\n",
        "\n",
        "\n",
        "```python\n",
        "# classes\n",
        "\n",
        "class Email:\n",
        "  # __ means private\n",
        "  __read = False\n",
        "\n",
        "  def __init__(self, subject, body):\n",
        "    self.subject = subject\n",
        "    self.body = body\n",
        "\n",
        "  def mark_as_read(self):\n",
        "    self.__read = True\n",
        "\n",
        "  def is_read(self):\n",
        "    return self.__read\n",
        "\n",
        "  def is_spam(self):\n",
        "    return \"you won 1 million\" in self.subject\n",
        "\n",
        "e = Email(\"Check this out\", \"There are a bunch of free online course here: https://course.online\")\n",
        "print(e.is_spam()) # False\n",
        "print(e.mark_as_read())\n",
        "print(e.is_read()) # True\n",
        "```\n",
        "\n",
        "Python also supports inheritance, which means that classes can be set to inherit methods and variables from another class or multiple classes (multiple inheritance).\n",
        "\n",
        "```python\n",
        "# inheritance\n",
        "class EmailWithAttachment(Email):\n",
        "  def __init__(self, subject, body, attachment):\n",
        "    super(EmailWithAttachment, self).__init__(subject, body)\n",
        "    self.__attachment = attachment\n",
        "\n",
        "  def get_attachment_size(self):\n",
        "    return len(self.__attachment)\n",
        "\n",
        "email_with_attachment = EmailWithAttachment(\"you won 1 million dollars\", \"open attachment to win\", \"one million.pdf\")\n",
        "print(email_with_attachment.is_spam()) # True\n",
        "print(email_with_attachment.get_attachment_size()) # 15\n",
        "```"
      ]
    },
    {
      "cell_type": "markdown",
      "metadata": {
        "id": "-yg-dnxAVx6e"
      },
      "source": [
        "**File I/O**\n",
        "\n",
        "```Python \n",
        "# write\n",
        "todos_file = open(\"todos.txt\", \"wb\")\n",
        "todos_file.write(bytes(\"buy a new domain name\\n\", \"UTF-8\"))\n",
        "todos_file.write(bytes(\"work on the side project\\n\", \"UTF-8\"))\n",
        "todos_file.write(bytes(\"learn a new programming language\\n\", \"UTF-8\"))\n",
        "todos_file.close()\n",
        "\n",
        "# read\n",
        "todos_file = open(\"todos.txt\", \"r+\")\n",
        "todos_file_contents = todos_file.read()\n",
        "print(todos_file_contents) \n",
        "```"
      ]
    },
    {
      "cell_type": "code",
      "metadata": {
        "colab": {
          "base_uri": "https://localhost:8080/"
        },
        "id": "6HqCjqjhbBMQ",
        "outputId": "6227c391-1e29-493e-a268-7270056f3e58"
      },
      "source": [
        "print(\"helllo world\");"
      ],
      "execution_count": null,
      "outputs": [
        {
          "output_type": "stream",
          "name": "stdout",
          "text": [
            "helllo world\n"
          ]
        }
      ]
    },
    {
      "cell_type": "markdown",
      "metadata": {
        "id": "ZBhuR_usWHt4"
      },
      "source": [
        "Read more about file handling in python 👉🏻: https://stackabuse.com/writing-files-using-python/"
      ]
    },
    {
      "cell_type": "markdown",
      "metadata": {
        "id": "9slt7QwEZ0kR"
      },
      "source": [
        "Reference :\n",
        "\n",
        "- https://www.pythontutorial.net/ \n",
        "- \n",
        "- \n",
        "- "
      ]
    },
    {
      "cell_type": "code",
      "source": [
        ""
      ],
      "metadata": {
        "id": "_tQrxmt9UaBe"
      },
      "execution_count": null,
      "outputs": []
    }
  ]
}